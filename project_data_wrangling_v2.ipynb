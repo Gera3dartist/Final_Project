{
 "cells": [
  {
   "cell_type": "code",
   "execution_count": 1,
   "id": "a72f9dd9-31d9-4b36-867b-71141ec9a81e",
   "metadata": {},
   "outputs": [],
   "source": [
    "import numpy as np\n",
    "import pandas as pd\n",
    "import pickle\n",
    "import seaborn as sns"
   ]
  },
  {
   "cell_type": "code",
   "execution_count": 2,
   "id": "6d3fd8c3-033e-4379-a8ce-5dc57ef82a64",
   "metadata": {},
   "outputs": [
    {
     "data": {
      "text/plain": [
       "'2.2.1'"
      ]
     },
     "execution_count": 2,
     "metadata": {},
     "output_type": "execute_result"
    }
   ],
   "source": [
    "pd.__version__"
   ]
  },
  {
   "cell_type": "code",
   "execution_count": 3,
   "id": "d448e326",
   "metadata": {},
   "outputs": [],
   "source": [
    "RANDOM_STATE = 42"
   ]
  },
  {
   "cell_type": "markdown",
   "id": "d05f6f54",
   "metadata": {},
   "source": [
    "## 1. Prepare data\n",
    "\n",
    "### Merge 3 data frames into single one by abon_id"
   ]
  },
  {
   "cell_type": "code",
   "execution_count": 15,
   "id": "c497e70c",
   "metadata": {},
   "outputs": [],
   "source": [
    "\n",
    "from sklearn.ensemble import RandomForestRegressor\n",
    "from sklearn.metrics import mean_absolute_error\n",
    "from sklearn.model_selection import train_test_split\n",
    "from sklearn.impute import SimpleImputer\n",
    "\n",
    "def prepare_related_data(columns: list, index_column: str, df: pd.DataFrame) -> pd.DataFrame:\n",
    "    \"\"\"\n",
    "    Related data will be processed in the same way:\n",
    "    - group by `index_column`\n",
    "    - sum all columns\n",
    "    - apply log1p to all columns except `index_column`\n",
    "    \"\"\"\n",
    "    col_to_fetch = columns + [index_column]\n",
    "    res = df[col_to_fetch].groupby(index_column).sum()\n",
    "    res = res[columns].apply(np.log1p)\n",
    "    return res\n",
    "\n",
    "\n",
    "def prepare_data(train: pd.DataFrame, dpi: pd.DataFrame, bnum: pd.DataFrame) -> pd.DataFrame:\n",
    "    \"\"\"\n",
    "    Prepare data for training\n",
    "    \"\"\"\n",
    "    dpi_columns = ['SUM_of_Duration_sec','SUM_of_Volume_kb','SUM_of_Count_events','MAX_of_day_cnt']\n",
    "    dpi_index_column = 'abon_id'\n",
    "\n",
    "    bnum_columns = ['call_cnt_out','call_cnt_in','call_dur_out','call_dur_in','cnt_sms_out','cnt_sms_in']\n",
    "    bnum_index_column = 'abon_id'\n",
    "\n",
    "    df_train_dpi_agg = prepare_related_data(dpi_columns, dpi_index_column, dpi)\n",
    "    df_train_bnum_agg = prepare_related_data(bnum_columns, bnum_index_column, bnum)\n",
    "    # let's merge all dataframes\n",
    "    # merge bnum dataframe\n",
    "    df_train = train.merge(df_train_bnum_agg, on='abon_id', how='left')\n",
    "\n",
    "    # merge dpi dataframe\n",
    "    df_train = df_train.merge(df_train_dpi_agg, on='abon_id', how='left')\n",
    "\n",
    "    # fill missings for dpi_columns, bnum_columns\n",
    "    df_train.fillna({col: df_train[col].median() for col in dpi_columns + bnum_columns}, inplace=True)\n",
    "    return df_train\n",
    "\n",
    "\n",
    "# Function for comparing different approaches\n",
    "def score_dataset(X_train, X_valid, y_train, y_valid):\n",
    "    model = RandomForestRegressor(n_estimators=100, random_state=RANDOM_STATE)\n",
    "    model.fit(X_train, y_train)\n",
    "    preds = model.predict(X_valid)\n",
    "    return mean_absolute_error(y_valid, preds)\n",
    "\n",
    "\n",
    "def get_score(df_train: pd.DataFrame, target_column: str = 'target') -> float:\n",
    "    \"\"\"\n",
    "    Get score for the given dataframes\n",
    "    \"\"\"\n",
    "    acopy = df_train.copy()\n",
    "    X, y = acopy.drop(target_column, axis=1), acopy[target_column]\n",
    "    X_train, X_val, y_train, y_val= train_test_split(X, y, test_size=0.2, random_state=RANDOM_STATE)\n",
    "\n",
    "    return score_dataset(X_train, X_val, y_train, y_val)\n",
    "\n",
    "\n",
    "def get_feature_importance(df_train: pd.DataFrame =  None, target_column: str = 'target', estimator=RandomForestRegressor) -> pd.DataFrame:\n",
    "    \"\"\"\n",
    "    Get feature importance for the given dataframes\n",
    "    \"\"\"\n",
    "    acopy = df_train.copy()\n",
    "    X, y = acopy.drop(target_column, axis=1), acopy[target_column]\n",
    "    return estimate_feature_importance(X, y, estimator)\n",
    "\n",
    "\n",
    "def estimate_feature_importance(X, y, estimator) -> pd.DataFrame:\n",
    "    model = estimator(random_state=RANDOM_STATE)\n",
    "    model.fit(X, y)\n",
    "    return pd.DataFrame(data=model.feature_importances_, index=X.columns, columns=['importance']).sort_values(by='importance', ascending=False)\n",
    "\n",
    "\n",
    "def drop_columns_with_nulls(frame: pd.DataFrame, threshold: float = 0.7) -> pd.DataFrame:\n",
    "    \"\"\"\n",
    "    Drop columns with more than threshold % of nulls\n",
    "    \"\"\"\n",
    "    return frame.dropna(thresh=threshold*frame.shape[0], axis=1)\n",
    "\n",
    "\n",
    "\n",
    "def impute_dataset(X, y) -> pd.DataFrame:\n",
    "    \"\"\"\n",
    "    Impute dataset\n",
    "    \"\"\"\n",
    "    simple_impute = SimpleImputer(missing_values=np.nan, add_indicator=True, strategy='constant', fill_value=0)\n",
    "    imputed = simple_impute.fit_transform(X, y)\n",
    "    # Extract the indicator columns\n",
    "    indicator = simple_impute.indicator_\n",
    "    indicator_columns = indicator.get_feature_names_out(input_features=X.columns)\n",
    "    # Reconstruct the DataFrame with the original columns and indicator columns\n",
    "    new_columns = list(X.columns) + list(indicator_columns)\n",
    "    return pd.DataFrame(imputed, columns=new_columns, index=X.index)\n",
    "\n",
    "\n",
    "\n",
    "## Dataset scoring\n",
    "\n",
    "from sklearn.ensemble import RandomForestRegressor\n",
    "from sklearn.metrics import mean_absolute_error\n",
    "from sklearn.model_selection import train_test_split\n",
    "from sklearn.impute import SimpleImputer\n",
    "\n",
    "def prepare_related_data(columns: list, index_column: str, df: pd.DataFrame) -> pd.DataFrame:\n",
    "    \"\"\"\n",
    "    Related data will be processed in the same way:\n",
    "    - group by `index_column`\n",
    "    - sum all columns\n",
    "    - apply log1p to all columns except `index_column`\n",
    "    \"\"\"\n",
    "    col_to_fetch = columns + [index_column]\n",
    "    res = df[col_to_fetch].groupby(index_column).sum()\n",
    "    res = res[columns].apply(np.log1p)\n",
    "    return res\n",
    "\n",
    "\n",
    "# Function for comparing different approaches\n",
    "def score_dataset(X_train, X_valid, y_train, y_valid):\n",
    "    model = RandomForestRegressor(n_estimators=100, random_state=RANDOM_STATE)\n",
    "    model.fit(X_train, y_train)\n",
    "    preds = model.predict(X_valid)\n",
    "    return mean_absolute_error(y_valid, preds)\n",
    "\n",
    "\n",
    "def get_score(df_train: pd.DataFrame, target_column: str = 'target') -> float:\n",
    "    \"\"\"\n",
    "    Get score for the given dataframes\n",
    "    \"\"\"\n",
    "    acopy = df_train.copy()\n",
    "    X, y = acopy.drop(target_column, axis=1), acopy[target_column]\n",
    "    X_train, X_val, y_train, y_val= train_test_split(X, y, test_size=0.2, random_state=RANDOM_STATE)\n",
    "\n",
    "    return score_dataset(X_train, X_val, y_train, y_val)\n",
    "\n",
    "\n",
    "def get_feature_importance(df_train: pd.DataFrame =  None, target_column: str = 'target', estimator=RandomForestRegressor) -> pd.DataFrame:\n",
    "    \"\"\"\n",
    "    Get feature importance for the given dataframes\n",
    "    \"\"\"\n",
    "    acopy = df_train.copy()\n",
    "    X, y = acopy.drop(target_column, axis=1), acopy[target_column]\n",
    "    return estimate_feature_importance(X, y, estimator)\n",
    "\n",
    "\n",
    "def estimate_feature_importance(X, y, estimator) -> pd.DataFrame:\n",
    "    model = estimator(random_state=RANDOM_STATE)\n",
    "    model.fit(X, y)\n",
    "    return pd.DataFrame(data=model.feature_importances_, index=X.columns, columns=['importance']).sort_values(by='importance', ascending=False)\n",
    "\n",
    "def scale_features(X: pd.DataFrame) -> pd.DataFrame:\n",
    "    \"\"\"\n",
    "    Scale features\n",
    "    \"\"\"\n",
    "    return X\n",
    "    # from sklearn.preprocessing import StandardScaler\n",
    "    # scaler = StandardScaler()\n",
    "    # return pd.DataFrame(scaler.fit_transform(X), columns=X.columns, index=X.index)\n",
    "\n",
    "\n",
    "def prepare_dataset(train: pd.DataFrame, dpi: pd.DataFrame, bnum: pd.DataFrame, features: list[str] | None = None) -> tuple[pd.DataFrame, pd.Series]:\n",
    "    \"\"\"\n",
    "    Prepare dataset for training\n",
    "    \"\"\"\n",
    "    dataset = prepare_data(train, dpi, bnum)\n",
    "    if features:\n",
    "        # if features are provided, we will use only them\n",
    "        X, y = dataset.drop('target', axis=1), dataset['target']\n",
    "        X_imputed = impute_dataset(X, y)\n",
    "        X_scaled = scale_features(X_imputed[features])\n",
    "        return X_scaled[features], y\n",
    "    else:\n",
    "        df_train_nulls_removed = drop_columns_with_nulls(dataset)\n",
    "        X, y = df_train_nulls_removed.drop('target', axis=1), df_train_nulls_removed['target']\n",
    "        X_imputed = impute_dataset(X, y)\n",
    "        X_scaled = scale_features(X_imputed)\n",
    "        return X_scaled, y\n",
    "\n",
    "## FEATURE SELECTION\n",
    "\n",
    "# SK learn FEATURE selection \n",
    "\n",
    "from sklearn.feature_selection import VarianceThreshold\n",
    "from sklearn.ensemble import ExtraTreesClassifier\n",
    "from sklearn.feature_selection import SelectFromModel\n",
    "from sklearn.feature_selection import SelectKBest\n",
    "from sklearn.feature_selection import f_classif\n",
    "from sklearn.inspection import permutation_importance\n",
    "# ligtgbm features\n",
    "import lightgbm as lgb\n",
    "import xgboost as xgb\n",
    "from functools  import partial\n",
    "\n",
    "\n",
    "# model parameters tuning\n",
    "from sklearn.ensemble import RandomForestClassifier\n",
    "from skopt import BayesSearchCV\n",
    "from skopt.space import Real, Integer\n",
    "from skopt.searchcv import BayesSearchCV\n",
    "\n",
    "\n",
    "def get_low_variance_features(X: pd.DataFrame, y:  pd.Series, threshold: float = 0.8, **kwargs) -> pd.DataFrame:\n",
    "    \"\"\"\n",
    "    Get features with low variance\n",
    "    \"\"\"\n",
    "    sel = VarianceThreshold(threshold=(threshold * (1 - threshold)))\n",
    "    sel.fit_transform(X, y)\n",
    "    return X.columns[sel.get_support(indices=True)].to_list()\n",
    "\n",
    "\n",
    "# using KBEST\n",
    "def get_k_best_features(X: pd.DataFrame, y: pd.Series, k: int = 200, **kwargs) -> pd.DataFrame:\n",
    "    \"\"\"\n",
    "    Get K best features\n",
    "    \"\"\"\n",
    "    selection_method = SelectKBest(f_classif, k=k)\n",
    "    selection_method.fit_transform(X, y)\n",
    "    return X.columns[selection_method.get_support(indices=True)].to_list()\n",
    "\n",
    "\n",
    "# select from model\n",
    "def get_features_from_model(X: pd.DataFrame, y: pd.Series, **kwargs) -> list[str]:\n",
    "    \"\"\"\n",
    "    Get features from model\n",
    "    \"\"\"\n",
    "\n",
    "    model = SelectFromModel(\n",
    "        estimator=ExtraTreesClassifier(n_estimators=50).fit(X, y), \n",
    "        prefit=True\n",
    "    )\n",
    "    model.transform(X)\n",
    "    return X.columns[model.get_support(indices=True)].to_list()\n",
    "\n",
    "\n",
    "def get_xgboos_features(X: pd.DataFrame, y: pd.Series, threshold: float=0.0018, **kwargs) -> list[str]:\n",
    "    \"\"\"\n",
    "    Get features from using XGBoost\n",
    "    \"\"\"\n",
    "\n",
    "    model = partial(xgb.XGBModel, objective='binary:logistic') \n",
    "    features = estimate_feature_importance(X, y, model)\n",
    "    return features.abs()[features.importance>threshold].index.tolist()\n",
    "\n",
    "\n",
    "def get_lgbm_features(X: pd.DataFrame, y: pd.Series, importance_type: str = 'gain', importance=3, **kwargs) -> list[str]:\n",
    "    \"\"\"\n",
    "    Get features from using LightGBM\n",
    "    \"\"\"\n",
    "    lgb_features = estimate_feature_importance(X, y, partial(lgb.LGBMClassifier, importance_type=importance_type))\n",
    "    return lgb_features[lgb_features.importance > importance].index.to_list()\n",
    "\n",
    "\n",
    "def get_correlation_features(X: pd.DataFrame, y: pd.Series,  threshold=0.1, **kwargs) -> list[str]:\n",
    "    \"\"\"\n",
    "    Get features from using correlation\n",
    "    \"\"\"\n",
    "    corr = X.corrwith(y)\n",
    "    \n",
    "    return corr[abs(corr) > threshold].index.to_list()\n",
    "\n",
    "\n",
    "def get_rfe_features(X: pd.DataFrame, y: pd.Series, n_features_to_select=200, **kwargs) -> list[str]:\n",
    "    \"\"\"\n",
    "    Get features from using RFE\n",
    "    \"\"\"\n",
    "    from sklearn.feature_selection import RFE\n",
    "    rfe = RFE(estimator=RandomForestClassifier(), n_features_to_select=n_features_to_select, verbose=1)\n",
    "    rfe.fit(X, y)\n",
    "    return X.columns[rfe.support_].to_list()\n",
    "\n",
    "\n",
    "def get_lasso_features(X: pd.DataFrame, y: pd.Series, alpha=0.1, **kwargs) -> list[str]:\n",
    "    \"\"\"\n",
    "    Get features from using Lasso\n",
    "    \"\"\"\n",
    "    from sklearn.linear_model import Lasso\n",
    "    lasso = Lasso(alpha=alpha)\n",
    "    lasso.fit(X, y)\n",
    "    importance = np.abs(lasso.coef_)\n",
    "    selected_features = np.where(importance > 0)[0]\n",
    "    return X.columns[selected_features].to_list()\n",
    "\n",
    "\n",
    "def get_features_by_permutation(X: pd.DataFrame, y: pd.Series, X_val:  pd.DataFrame, y_val: pd.DataFrame) -> list[str]:\n",
    "    # feature permutation\n",
    "    model =  lgb.LGBMClassifier(random_state=RANDOM_STATE)\n",
    "\n",
    "    lgbm_features  = get_lgbm_features(55)\n",
    "\n",
    "    X_test_lgbm = X_val[lgbm_features]\n",
    "    X_train_lgbm = X[lgbm_features]\n",
    "\n",
    "    _, X_test, _, y_test = train_test_split(X_test_lgbm, y_val, test_size=0.2)\n",
    "\n",
    "    model.fit(X_train_lgbm, y)\n",
    "    r = permutation_importance(model, X_test, y_test,\n",
    "                            n_repeats=30,\n",
    "                            random_state=0)\n",
    "    res  = {}\n",
    "    for i in r.importances_mean.argsort()[::-1]:\n",
    "        if r.importances_mean[i] - 2 * r.importances_std[i] > 0:\n",
    "            print(f\"{X_train_lgbm.columns[i]:<8}\"\n",
    "                f\"{r.importances_mean[i]:.3f}\"\n",
    "                f\" +/- {r.importances_std[i]:.3f}\")\n",
    "            res[X_train_lgbm.columns[i]]  = r.importances_mean[i]\n",
    "\n",
    "\n",
    "def find_params_xgboost(X: pd.DataFrame, y: pd.DataFrame, eval_metric='auc') -> BayesSearchCV:\n",
    "    xgb_search_space  = {\n",
    "        'n_estimators': Integer(50, 1000),\n",
    "        'learning_rate': Real(0.01, 0.3, prior='log-uniform'),\n",
    "        'max_depth': Integer(3, 10),\n",
    "        'min_child_weight': Integer(1, 10),\n",
    "        'gamma': Real(0, 0.5),\n",
    "        'subsample': Real(0.6, 1.0, prior='uniform'),\n",
    "        'colsample_bytree': Real(0.6, 1.0, prior='uniform'),\n",
    "        'reg_alpha': Real(0.01, 1.0, prior='log-uniform'),\n",
    "        'reg_lambda': Real(0.01, 1.0, prior='log-uniform'),\n",
    "        'scale_pos_weight': Real(1.0, 10.0, prior='uniform')\n",
    "    }\n",
    "    xgb_bayes_cv = BayesSearchCV(\n",
    "        estimator=xgb.XGBClassifier(\n",
    "            use_label_encoder=False, random_state=RANDOM_STATE,\n",
    "            **(dict(eval_metric=eval_metric) if eval_metric else {})\n",
    "        ),\n",
    "        search_spaces=xgb_search_space,\n",
    "        n_iter=32,\n",
    "        cv=3,\n",
    "        n_jobs=-1,\n",
    "        verbose=0,\n",
    "        random_state=RANDOM_STATE\n",
    "    )\n",
    "    xgb_bayes_cv.fit(X, y)\n",
    "    return xgb_bayes_cv\n",
    "\n",
    "\n",
    "def find_params_rfc(X: pd.DataFrame, y: pd.DataFrame) -> BayesSearchCV:\n",
    "    rf_search_space = {\n",
    "        'n_estimators': Integer(50, 200),\n",
    "        'max_depth': Integer(3, 20),\n",
    "        'min_samples_split': Integer(2, 20),\n",
    "        'min_samples_leaf': Integer(1, 20),\n",
    "        'bootstrap': [True, False]\n",
    "    }\n",
    "    rf_bayes_cv = BayesSearchCV(\n",
    "        estimator=RandomForestClassifier(random_state=RANDOM_STATE, criterion='gini'),\n",
    "        search_spaces=rf_search_space,\n",
    "        n_iter=32,\n",
    "        cv=3,\n",
    "        n_jobs=-1,\n",
    "        verbose=0,\n",
    "        random_state=RANDOM_STATE\n",
    "    )\n",
    "    rf_bayes_cv.fit(X, y)\n",
    "    return rf_bayes_cv\n",
    "\n",
    "\n",
    "def find_params_lgbmc(X: pd.DataFrame, y: pd.DataFrame, metric: str|None = None, lgbmc_kwargs: dict | None = None) -> BayesSearchCV:\n",
    "    lgbm_search_space  = {\n",
    "        'num_leaves': Integer(31, 150),\n",
    "        'learning_rate': Real(0.01, 0.2, prior='log-uniform'),\n",
    "        'n_estimators': Integer(100, 1000),\n",
    "        'max_depth': Integer(-1, 20),\n",
    "        'min_child_samples': Integer(10, 100),\n",
    "        'subsample': Real(0.6, 1.0, prior='uniform'),\n",
    "        'colsample_bytree': Real(0.6, 1.0, prior='uniform'),\n",
    "        'reg_alpha': Real(0.0, 1.0, prior='uniform'),\n",
    "        'reg_lambda': Real(0.0, 1.0, prior='uniform')\n",
    "    }\n",
    "    lgbm_bayes_cv = BayesSearchCV(\n",
    "        estimator=lgb.LGBMClassifier(\n",
    "            objective='binary',\n",
    "            random_state=RANDOM_STATE, \n",
    "            verbose=-1,\n",
    "            **(dict(metric=metric) if metric else {}),\n",
    "            **(lgbmc_kwargs if lgbmc_kwargs else {})\n",
    "        ),\n",
    "        search_spaces=lgbm_search_space,\n",
    "        n_iter=32,\n",
    "        cv=3,\n",
    "        n_jobs=-1,\n",
    "        verbose=0,\n",
    "        random_state=RANDOM_STATE\n",
    "    )\n",
    "    lgbm_bayes_cv.fit(X, y)\n",
    "    return lgbm_bayes_cv\n",
    "\n",
    "\n",
    "\n",
    "### Features set scoring\n",
    "# let's implement   a  function for validation of  model\n",
    "\n",
    "from collections import defaultdict\n",
    "from sklearn.metrics import f1_score, log_loss, precision_score, recall_score, roc_auc_score, auc\n",
    "from sklearn.model_selection import cross_validate\n",
    "import typing as t\n",
    "from collections import Counter\n",
    "\n",
    "from sklearn.metrics import make_scorer, precision_score, recall_score, f1_score\n",
    "\n",
    "\n",
    "# Define the scoring metrics\n",
    "\n",
    "def score_feature_set(model, X: pd.DataFrame, y: pd.Series, feature_set: t.Iterable | None = None ) -> dict:\n",
    "    \"\"\"\n",
    "    Score feature set\n",
    "    \"\"\"\n",
    "    X_features = X[list(feature_set)] if feature_set else X\n",
    "\n",
    "    scoring = {\n",
    "        'precision': make_scorer(precision_score, average='macro'),\n",
    "        'recall': make_scorer(recall_score, average='macro'),\n",
    "        'f1': make_scorer(f1_score, average='macro')\n",
    "    }\n",
    "    \n",
    "\n",
    "    # Perform cross-validation\n",
    "    scores = cross_validate(model, X_features, y, cv=5,  scoring=scoring, return_train_score=True)\n",
    "\n",
    "    precision_scores = scores['test_precision']\n",
    "    recall_scores = scores['test_recall']\n",
    "    f1_scores = scores['test_f1']\n",
    "\n",
    "    print(f'Model: {model.__class__.__name__}: Accuracy scores: {precision_scores.mean()} \\tRecall scores: {recall_scores.mean()}\\tF1 scores: {f1_scores.mean()}')\n",
    "    return scores\n",
    "\n",
    "\n",
    "def select_best_feature_set(\n",
    "        X: pd.DataFrame,\n",
    "        y: pd.Series,\n",
    "        estimators: list, \n",
    "        feature_sets: dict, \n",
    "        column_limit: int = 274, \n",
    "        default_set: str | None = None,\n",
    "    ) -> None:\n",
    "\n",
    "    always_include = feature_sets[default_set] if default_set else set()\n",
    "\n",
    "    model_max = {}\n",
    "    SCORES = defaultdict(dict)\n",
    "    \n",
    "    for model in estimators:\n",
    "        for ds_name, columns in feature_sets.items():\n",
    "            if len(columns) > column_limit:\n",
    "                continue\n",
    "            print(f'Dataset: {ds_name}', end='\\t')\n",
    "            SCORES[model][ds_name] = score_feature_set(model,  X, y.astype(int), set(columns).union(always_include))\n",
    "\n",
    "\n",
    "    ds_counter = Counter()\n",
    "    for model, metrics in SCORES.items():\n",
    "        model_name = model.__class__.__name__\n",
    "        print(f'For Model: {model_name}  winner is:  ', end='\\t')\n",
    "        # ds scorring\n",
    "        score_to_dict = {tuple([v.mean() for k,v in scores.items() if k in {'test_precision','test_recall','test_f1'}]): ds for ds, scores in metrics.items()}\n",
    "        max_mean = max(score_to_dict.keys())\n",
    "        print(f'{score_to_dict[max_mean]} with score: {max_mean}')\n",
    "        ds_counter[score_to_dict[max_mean]] += 1\n",
    "        model_max[model_name] = max_mean\n",
    "    print(f'Dataset Winner is: {ds_counter.most_common()[0]}\\nModel winner is: {max(model_max, key=model_max.get)}')\n",
    "\n",
    "\n",
    "## MODEL ESTIMATION\n",
    "\n",
    "# MAke predictions\n",
    "from sklearn.metrics import ConfusionMatrixDisplay, classification_report, confusion_matrix, roc_auc_score, roc_curve, auc\n",
    "from sklearn.metrics import accuracy_score, f1_score, precision_score, recall_score\n",
    "import seaborn as sns\n",
    "import matplotlib.pyplot as plt\n",
    "\n",
    "\n",
    "def evaluate_model(model, X: pd.DataFrame, y: pd.Series, threshold: float = 0.5) -> None:\n",
    "    \"\"\"\n",
    "    Evaluate model\n",
    "    \"\"\"\n",
    "    # preds = model.predict(X)\n",
    "    preds = model.predict_proba(X)[:, 1]\n",
    "\n",
    "    # Use the default threshold (0.5)\n",
    "\n",
    "    preds = (preds >= threshold).astype(int)\n",
    "    print(f'Accuracy: {accuracy_score(y, preds)}')\n",
    "    print(f'F1: {f1_score(y, preds)}')\n",
    "    print(f'Precision: {precision_score(y, preds)}')\n",
    "    print(f'Recall: {recall_score(y, preds)}')\n",
    "    print(f'ROC AUC: {roc_auc_score(y, preds)}')\n",
    "\n",
    "    auc_score = roc_auc_score(y, model.predict_proba(X)[:,1])\n",
    "    cm = confusion_matrix(y, preds, labels=model.classes_)\n",
    "    print(f'AUC: {auc_score}')\n",
    "    print(f'Classification Report: {classification_report(y, preds, target_names=[\"not churn\", \"churn\"])}')\n",
    "    print(f'ROC Curve: {roc_curve(y, preds)}')\n",
    "    # plot confusion matrix\n",
    "\n",
    "    \n",
    "    # Plot confusion matrix\n",
    "\n",
    "    disp = ConfusionMatrixDisplay(confusion_matrix=cm, display_labels=model.classes_)\n",
    "    disp.plot()\n",
    "    plt.show()\n",
    "\n",
    "    # ConfusionMatrixDisplay(confusion_matrix(y, preds)).plot()\n",
    "\n",
    "\n"
   ]
  },
  {
   "cell_type": "code",
   "execution_count": null,
   "id": "95bdbc54",
   "metadata": {},
   "outputs": [],
   "source": []
  },
  {
   "cell_type": "code",
   "execution_count": 16,
   "id": "14aeee5f",
   "metadata": {},
   "outputs": [],
   "source": [
    "\n",
    "with open(r'Data/churn_model_pd2.pcl', 'rb') as f:\n",
    "    bdl_data = pickle.load(f)\n",
    "gen_info, train_data, test_data = bdl_data\n",
    "train_info, df_train_fe, df_train_bnum, df_train_dpi = train_data\n",
    "test_info, df_test_fe, df_test_bnum, df_test_dpi = test_data\n",
    "\n",
    "# df_train = prepare_data(df_train_fe, df_train_dpi, df_train_bnum)\n",
    "\n",
    "X_train, y_train = prepare_dataset(df_train_fe, df_train_dpi, df_train_bnum)\n",
    "\n",
    "# df_train_nulls_removed = drop_columns_with_nulls(df_train)\n",
    "# print(f'before: {df_train.shape}, after: {df_train_nulls_removed.shape}')\n",
    "\n",
    "# X_train, y_train = df_train_nulls_removed.drop('target', axis=1), df_train_nulls_removed['target']\n",
    "\n"
   ]
  },
  {
   "cell_type": "code",
   "execution_count": 17,
   "id": "8f214614",
   "metadata": {},
   "outputs": [
    {
     "data": {
      "text/plain": [
       "target\n",
       "0.0    140414\n",
       "1.0      9586\n",
       "Name: count, dtype: int64"
      ]
     },
     "execution_count": 17,
     "metadata": {},
     "output_type": "execute_result"
    }
   ],
   "source": [
    "y_train.value_counts()"
   ]
  },
  {
   "cell_type": "code",
   "execution_count": null,
   "id": "fb32f026",
   "metadata": {},
   "outputs": [],
   "source": [
    "X_train.shape, y_train.shape"
   ]
  },
  {
   "cell_type": "markdown",
   "id": "7e55d3a9",
   "metadata": {},
   "source": [
    "## 2. Data Pre-processing EDA"
   ]
  },
  {
   "cell_type": "markdown",
   "id": "c828e8e9",
   "metadata": {},
   "source": [
    "### 2.2 Balance a dataset with undersampling"
   ]
  },
  {
   "cell_type": "code",
   "execution_count": 18,
   "id": "db96a7c4",
   "metadata": {},
   "outputs": [],
   "source": [
    "\n",
    "# let's balance dataset\n",
    "# using undersampling\n",
    "from imblearn.under_sampling import RandomUnderSampler\n",
    "rus = RandomUnderSampler(random_state=RANDOM_STATE)\n",
    "X_train_under, y_train_under = rus.fit_resample(X_train, y_train)\n",
    "\n",
    "# and we're ready to search feature importance/corelations\n",
    "# to reduce size of train data for experiment\n",
    "\n",
    "X_train_stratified, X_test_stratified, y_train_stratified, y_test_stratified = train_test_split(\n",
    "  X_train_under, y_train_under, test_size=0.5,  shuffle=True, random_state=RANDOM_STATE\n",
    ")\n",
    "\n"
   ]
  },
  {
   "cell_type": "code",
   "execution_count": null,
   "id": "8f3c9a64",
   "metadata": {},
   "outputs": [],
   "source": [
    "# stratified dataset\n",
    "\n",
    "X_train_stratified, X_test_stratified, y_train_stratified, y_test_stratified = train_test_split(\n",
    "  X_train, y_train, test_size=0.8,  shuffle=True, random_state=RANDOM_STATE, stratify=y_train\n",
    ")\n"
   ]
  },
  {
   "cell_type": "code",
   "execution_count": null,
   "id": "2d486bac",
   "metadata": {},
   "outputs": [],
   "source": [
    "\n",
    "# handle  imbalanced dataset\n",
    "# using oversampling\n",
    "from imblearn.over_sampling import SMOTE\n",
    "smote = SMOTE(random_state=RANDOM_STATE)\n",
    "X_train_over, y_train_over = smote.fit_resample(X_train, y_train)\n"
   ]
  },
  {
   "cell_type": "code",
   "execution_count": null,
   "id": "d8c1ac6b",
   "metadata": {},
   "outputs": [],
   "source": [
    "X_train_over.shape, y_train_over.shape"
   ]
  },
  {
   "cell_type": "markdown",
   "id": "c4caa0cc",
   "metadata": {},
   "source": [
    "## 3. Feature Selection"
   ]
  },
  {
   "cell_type": "markdown",
   "id": "788a05dc",
   "metadata": {},
   "source": [
    "### 3.1  Select  features  using various techniques"
   ]
  },
  {
   "cell_type": "code",
   "execution_count": null,
   "id": "b9c3d6c9",
   "metadata": {},
   "outputs": [],
   "source": []
  },
  {
   "cell_type": "code",
   "execution_count": null,
   "id": "2ea4cc0e",
   "metadata": {},
   "outputs": [],
   "source": [
    "import json\n",
    "selected_feautures  = {\n",
    "    method_name: method(X_train_stratified, y_train_stratified, X_val=X_test_stratified, y_val=y_test_stratified)\n",
    "    for (method_name, method) in [\n",
    "            ('low_variance_features', get_low_variance_features),   \n",
    "            ('k_best_features', get_k_best_features),\n",
    "            ('features_from_model', get_features_from_model),\n",
    "            ('xgboost_features', get_xgboos_features),\n",
    "            ('lgbm_features', get_lgbm_features),\n",
    "            # ('features_by_permutation', get_features_by_permutation) # this method is heavy\n",
    "        ]\n",
    "}\n",
    "\n",
    "# write features to file\n",
    "# with open('Data/features.json', 'w') as fd:\n",
    "#     json.dump(selected_feautures, fd)\n",
    "\n"
   ]
  },
  {
   "cell_type": "code",
   "execution_count": null,
   "id": "05a0e7b1",
   "metadata": {},
   "outputs": [],
   "source": [
    "\n",
    "X_train_over_split, X_val_over_split, y_train_over_split, y_val_over_split = train_test_split(\n",
    "    \n",
    "    X_train_over, y_train_over, test_size=0.9,  shuffle=True, random_state=RANDOM_STATE)\n",
    "X_train_over_split.shape, X_val_over_split.shape, y_train_over_split.shape, y_val_over_split.shape"
   ]
  },
  {
   "cell_type": "code",
   "execution_count": null,
   "id": "b6d812cb",
   "metadata": {},
   "outputs": [],
   "source": [
    "# select features for oversampled dataset\n",
    "selected_features_over  = {}"
   ]
  },
  {
   "cell_type": "code",
   "execution_count": null,
   "id": "cd220a79",
   "metadata": {},
   "outputs": [],
   "source": [
    "\n",
    "for (method_name, method) in [\n",
    "        # ('low_variance_features', get_low_variance_features),   \n",
    "        # ('k_best_features', get_k_best_features),\n",
    "        # ('features_from_model', get_features_from_model),\n",
    "        # ('xgboost_features', get_xgboos_features),\n",
    "        # ('lgbm_features', get_lgbm_features),\n",
    "        # ('correlation', get_correlation_features),\n",
    "        ('rfe', get_rfe_features),\n",
    "        ('lasso', get_lasso_features),\n",
    "        # ('features_by_permutation', get_features_by_permutation) # this method is heavy\n",
    "    ]:\n",
    "    selected_features_over[method_name] = method(X_train_over_split, y_train_over_split, X_val=X_val_over_split, y_val=y_val_over_split)\n",
    "                            "
   ]
  },
  {
   "cell_type": "code",
   "execution_count": null,
   "id": "6743ba82",
   "metadata": {},
   "outputs": [],
   "source": [
    "# print len of each record in selected_features_over\n",
    "for k, v in selected_features_over.items():\n",
    "    print(f'{k}: {len(v)}')\n"
   ]
  },
  {
   "cell_type": "markdown",
   "id": "a110bc1e",
   "metadata": {},
   "source": [
    "### 3.2 Estimate quality of selected features (scorring)"
   ]
  },
  {
   "cell_type": "code",
   "execution_count": null,
   "id": "d73af5d1",
   "metadata": {},
   "outputs": [],
   "source": [
    "import json\n",
    "# read features from file\n",
    "with open('Data/features_over.json', 'w') as fd:\n",
    "    feature_sets_over = json.load(fd)"
   ]
  },
  {
   "cell_type": "code",
   "execution_count": 5,
   "id": "1c276b53",
   "metadata": {},
   "outputs": [],
   "source": [
    "import json\n",
    "# read features from file\n",
    "with open('Data/features.json', 'r') as fd:\n",
    "    feature_sets = json.load(fd)"
   ]
  },
  {
   "cell_type": "code",
   "execution_count": 6,
   "id": "90a1ff8e",
   "metadata": {},
   "outputs": [
    {
     "name": "stdout",
     "output_type": "stream",
     "text": [
      "pearson_fields: 421 features\n",
      "kendall_fields: 382 features\n",
      "most_correlated_fields: 367 features\n",
      "features_core_gt_20: 422 features\n",
      "permut_column_names: 12 features\n",
      "skb_column_names: 200 features\n",
      "sfb_column_names: 274 features\n",
      "xgb_column_names: 106 features\n",
      "lgbm_column_names: 167 features\n",
      "best_features: 110 features\n"
     ]
    }
   ],
   "source": [
    "for name, features in feature_sets.items():\n",
    "    print(f'{name}: {len(features)} features')"
   ]
  },
  {
   "cell_type": "markdown",
   "id": "6a536020",
   "metadata": {},
   "source": [
    "Having "
   ]
  },
  {
   "cell_type": "code",
   "execution_count": null,
   "id": "b6581868",
   "metadata": {},
   "outputs": [],
   "source": [
    "estimators = [\n",
    "    RandomForestClassifier(random_state=RANDOM_STATE),\n",
    "    xgb.XGBClassifier(use_label_encoder=False,  random_state=RANDOM_STATE),\n",
    "    lgb.LGBMClassifier(objective='binary', random_state=RANDOM_STATE, verbose=-1)\n",
    "]"
   ]
  },
  {
   "cell_type": "code",
   "execution_count": null,
   "id": "ff873a17",
   "metadata": {},
   "outputs": [],
   "source": [
    "# for undersampled dataset\n",
    "select_best_feature_set(\n",
    "    X_train_stratified, y_train_stratified,\n",
    "    estimators,\n",
    "    feature_sets,\n",
    "    default_set='permut_column_names'\n",
    ")"
   ]
  },
  {
   "cell_type": "code",
   "execution_count": null,
   "id": "0851a353",
   "metadata": {},
   "outputs": [],
   "source": [
    "# for oversampled dataset\n",
    "select_best_feature_set(X_train_over_split, y_train_over_split, estimators,feature_sets_over)"
   ]
  },
  {
   "cell_type": "markdown",
   "id": "5bb41228",
   "metadata": {},
   "source": [
    "SCORES"
   ]
  },
  {
   "cell_type": "markdown",
   "id": "01845f3f",
   "metadata": {},
   "source": [
    "## 4. Model training"
   ]
  },
  {
   "cell_type": "code",
   "execution_count": 8,
   "id": "ea19c1ed",
   "metadata": {},
   "outputs": [],
   "source": [
    "best_features = list(set(feature_sets['xgb_column_names']).union(feature_sets['permut_column_names']))"
   ]
  },
  {
   "cell_type": "code",
   "execution_count": 7,
   "id": "b05c2024",
   "metadata": {},
   "outputs": [
    {
     "ename": "NameError",
     "evalue": "name 'X_train_under' is not defined",
     "output_type": "error",
     "traceback": [
      "\u001b[0;31m---------------------------------------------------------------------------\u001b[0m",
      "\u001b[0;31mNameError\u001b[0m                                 Traceback (most recent call last)",
      "Cell \u001b[0;32mIn[7], line 3\u001b[0m\n\u001b[1;32m      1\u001b[0m best_features \u001b[38;5;241m=\u001b[39m \u001b[38;5;28mlist\u001b[39m(\u001b[38;5;28mset\u001b[39m(feature_sets[\u001b[38;5;124m'\u001b[39m\u001b[38;5;124mxgb_column_names\u001b[39m\u001b[38;5;124m'\u001b[39m])\u001b[38;5;241m.\u001b[39munion(feature_sets[\u001b[38;5;124m'\u001b[39m\u001b[38;5;124mpermut_column_names\u001b[39m\u001b[38;5;124m'\u001b[39m]))\n\u001b[0;32m----> 3\u001b[0m X_train, X_val, y_train, y_val \u001b[38;5;241m=\u001b[39m train_test_split(\u001b[43mX_train_under\u001b[49m[best_features], y_train_under, test_size\u001b[38;5;241m=\u001b[39m\u001b[38;5;241m0.2\u001b[39m, random_state\u001b[38;5;241m=\u001b[39mRANDOM_STATE)\n",
      "\u001b[0;31mNameError\u001b[0m: name 'X_train_under' is not defined"
     ]
    }
   ],
   "source": [
    "\n",
    "\n",
    "\n",
    "X_train, X_val, y_train, y_val = train_test_split(X_train_under[best_features], y_train_under, test_size=0.2, random_state=RANDOM_STATE)\n"
   ]
  },
  {
   "cell_type": "code",
   "execution_count": null,
   "id": "f2d33282",
   "metadata": {},
   "outputs": [],
   "source": [
    "\n",
    "trained_models = {\n",
    "    'xgboost': find_params_xgboost(X_train, y_train),\n",
    "    'rfc': find_params_rfc(X_train, y_train),\n",
    "    'lgbmc': find_params_lgbmc(X_train, y_train)\n",
    "}"
   ]
  },
  {
   "cell_type": "code",
   "execution_count": null,
   "id": "d3e5e9d6",
   "metadata": {},
   "outputs": [],
   "source": [
    "# crete a dataset with stratified split\n",
    "best_features = feature_sets['best_features']\n",
    "X_train_stratified, X_val_stratified, y_train_stratified, y_val_stratified = train_test_split(X_train[best_features], y_train, test_size=0.8, random_state=RANDOM_STATE, stratify=y_train)\n",
    "\n"
   ]
  },
  {
   "cell_type": "markdown",
   "id": "d18c95f0",
   "metadata": {},
   "source": [
    "#### Train model specifying  `class_weight` for LightGBMClasifier"
   ]
  },
  {
   "cell_type": "code",
   "execution_count": null,
   "id": "50e7db54",
   "metadata": {},
   "outputs": [],
   "source": [
    "trained_models['lgbmc_imb'] = find_params_lgbmc(X_train_stratified, y_train_stratified, lgbmc_kwargs={'class_weight': {0: 1.07, 1: 16}})"
   ]
  },
  {
   "cell_type": "code",
   "execution_count": null,
   "id": "d7075840",
   "metadata": {},
   "outputs": [],
   "source": [
    "# let's train models on oversampled dataset\n",
    "trained_models.update({\n",
    "    'xgboost_over': find_params_xgboost(X_train, y_train),\n",
    "    'rfc_over': find_params_rfc(X_train, y_train),\n",
    "    'lgbmc_over': find_params_lgbmc(X_train, y_train)\n",
    "})"
   ]
  },
  {
   "cell_type": "code",
   "execution_count": null,
   "id": "138cc3e9",
   "metadata": {},
   "outputs": [],
   "source": [
    "for model in trained_models.values():\n",
    "    print(f'Model: {model.estimator.__class__.__name__} \\tBest score: {model.best_score_}\\tValidation score: {model.score(X_val, y_val)}')"
   ]
  },
  {
   "cell_type": "code",
   "execution_count": null,
   "id": "116721d6",
   "metadata": {},
   "outputs": [],
   "source": [
    "# # let's save models\n",
    "# import pickle\n",
    "# with open('Model/trained_models.pcl', 'wb') as fd:\n",
    "#     pickle.dump(trained_models, fd)"
   ]
  },
  {
   "cell_type": "code",
   "execution_count": 10,
   "metadata": {},
   "outputs": [],
   "source": [
    "from joblib import dump, load\n",
    "# dump(trained_models, 'Model/trained_models.joblib')"
   ]
  },
  {
   "cell_type": "code",
   "execution_count": 11,
   "id": "2fe7759d",
   "metadata": {},
   "outputs": [],
   "source": [
    "trained_models = load('Model/trained_models.joblib')"
   ]
  },
  {
   "cell_type": "code",
   "execution_count": 12,
   "id": "14952747",
   "metadata": {},
   "outputs": [
    {
     "data": {
      "text/plain": [
       "dict_keys(['xgboost', 'rfc', 'lgbmc', 'ensemble', 'lgbmc_imb'])"
      ]
     },
     "execution_count": 12,
     "metadata": {},
     "output_type": "execute_result"
    }
   ],
   "source": [
    "trained_models.keys()"
   ]
  },
  {
   "cell_type": "code",
   "execution_count": null,
   "id": "c3d7227f",
   "metadata": {},
   "outputs": [],
   "source": [
    "y_test.value_counts()"
   ]
  },
  {
   "cell_type": "code",
   "execution_count": 14,
   "id": "159ad374",
   "metadata": {},
   "outputs": [
    {
     "ename": "NameError",
     "evalue": "name 'df_test_fe' is not defined",
     "output_type": "error",
     "traceback": [
      "\u001b[0;31m---------------------------------------------------------------------------\u001b[0m",
      "\u001b[0;31mNameError\u001b[0m                                 Traceback (most recent call last)",
      "Cell \u001b[0;32mIn[14], line 5\u001b[0m\n\u001b[1;32m      1\u001b[0m \u001b[38;5;66;03m# make predictions\u001b[39;00m\n\u001b[1;32m      2\u001b[0m \u001b[38;5;66;03m# best_features  = list(feature_sets['xgb_column_names'].union(feature_sets['permut_column_names']))\u001b[39;00m\n\u001b[0;32m----> 5\u001b[0m X_test, y_test  \u001b[38;5;241m=\u001b[39m prepare_dataset(\u001b[43mdf_test_fe\u001b[49m, df_test_dpi, df_test_bnum, features\u001b[38;5;241m=\u001b[39mfeature_sets[\u001b[38;5;124m'\u001b[39m\u001b[38;5;124mbest_features\u001b[39m\u001b[38;5;124m'\u001b[39m])\n",
      "\u001b[0;31mNameError\u001b[0m: name 'df_test_fe' is not defined"
     ]
    }
   ],
   "source": [
    "# make predictions\n",
    "# best_features  = list(feature_sets['xgb_column_names'].union(feature_sets['permut_column_names']))\n",
    "\n",
    "\n",
    "X_test, y_test  = prepare_dataset(df_test_fe, df_test_dpi, df_test_bnum, features=feature_sets['best_features'])\n",
    "\n"
   ]
  },
  {
   "cell_type": "code",
   "execution_count": null,
   "id": "b85e09d6",
   "metadata": {},
   "outputs": [],
   "source": [
    "X_test.shape, y_test.shape"
   ]
  },
  {
   "cell_type": "code",
   "execution_count": null,
   "id": "a55ce330",
   "metadata": {},
   "outputs": [],
   "source": [
    "evaluate_model(trained_models['xgboost'], X_test, y_test, threshold=0.8)"
   ]
  },
  {
   "cell_type": "code",
   "execution_count": null,
   "id": "4f719265",
   "metadata": {},
   "outputs": [],
   "source": [
    "y_test.value_counts()"
   ]
  },
  {
   "cell_type": "code",
   "execution_count": null,
   "id": "8cbebb2d",
   "metadata": {},
   "outputs": [],
   "source": [
    "y_test[:10000].value_counts()"
   ]
  },
  {
   "cell_type": "code",
   "execution_count": null,
   "id": "3925129f",
   "metadata": {},
   "outputs": [],
   "source": [
    "evaluate_model(trained_models['lgbmc'], X_test[:10000], y_test[:10000])"
   ]
  },
  {
   "cell_type": "code",
   "execution_count": 13,
   "id": "d547110f",
   "metadata": {},
   "outputs": [
    {
     "ename": "NameError",
     "evalue": "name 'X_test' is not defined",
     "output_type": "error",
     "traceback": [
      "\u001b[0;31m---------------------------------------------------------------------------\u001b[0m",
      "\u001b[0;31mNameError\u001b[0m                                 Traceback (most recent call last)",
      "Cell \u001b[0;32mIn[13], line 1\u001b[0m\n\u001b[0;32m----> 1\u001b[0m evaluate_model(trained_models[\u001b[38;5;124m'\u001b[39m\u001b[38;5;124mlgbmc\u001b[39m\u001b[38;5;124m'\u001b[39m], \u001b[43mX_test\u001b[49m, y_test)\n",
      "\u001b[0;31mNameError\u001b[0m: name 'X_test' is not defined"
     ]
    }
   ],
   "source": [
    "evaluate_model(trained_models['lgbmc'], X_test, y_test)"
   ]
  },
  {
   "cell_type": "code",
   "execution_count": 21,
   "id": "f879a6fc",
   "metadata": {},
   "outputs": [
    {
     "name": "stdout",
     "output_type": "stream",
     "text": [
      "Accuracy: 0.9063066666666667\n",
      "F1: 0.46837645634740505\n",
      "Precision: 0.3634709094111431\n",
      "Recall: 0.6584068914176326\n",
      "ROC AUC: 0.7906464352462887\n",
      "AUC: 0.8910757275909489\n",
      "Classification Report:               precision    recall  f1-score   support\n",
      "\n",
      "   not churn       0.98      0.92      0.95    140597\n",
      "       churn       0.36      0.66      0.47      9403\n",
      "\n",
      "    accuracy                           0.91    150000\n",
      "   macro avg       0.67      0.79      0.71    150000\n",
      "weighted avg       0.94      0.91      0.92    150000\n",
      "\n",
      "ROC Curve: (array([0.        , 0.07711402, 1.        ]), array([0.        , 0.65840689, 1.        ]), array([inf,  1.,  0.]))\n"
     ]
    },
    {
     "data": {
      "image/png": "[encoded data removed]",
      "text/plain": [
       "<Figure size 640x480 with 2 Axes>"
      ]
     },
     "metadata": {},
     "output_type": "display_data"
    }
   ],
   "source": [
    "evaluate_model(trained_models['lgbmc'], X_test, y_test, threshold=0.8)\n"
   ]
  },
  {
   "cell_type": "code",
   "execution_count": null,
   "id": "042c45b2",
   "metadata": {},
   "outputs": [],
   "source": [
    "# load model\n",
    "with open('Model/trained_models.pcl', 'rb') as fd:\n",
    "    trained_models = pickle.load(fd)"
   ]
  },
  {
   "cell_type": "code",
   "execution_count": 22,
   "id": "13b03a72",
   "metadata": {},
   "outputs": [
    {
     "name": "stdout",
     "output_type": "stream",
     "text": [
      "Accuracy: 0.9464733333333334\n",
      "F1: 0.443010752688172\n",
      "Precision: 0.6370710295291301\n",
      "Recall: 0.3395724768690843\n",
      "ROC AUC: 0.6633173948603549\n",
      "AUC: 0.8741229851246646\n",
      "Classification Report:               precision    recall  f1-score   support\n",
      "\n",
      "   not churn       0.96      0.99      0.97    140597\n",
      "       churn       0.64      0.34      0.44      9403\n",
      "\n",
      "    accuracy                           0.95    150000\n",
      "   macro avg       0.80      0.66      0.71    150000\n",
      "weighted avg       0.94      0.95      0.94    150000\n",
      "\n",
      "ROC Curve: (array([0.        , 0.01293769, 1.        ]), array([0.        , 0.33957248, 1.        ]), array([inf,  1.,  0.]))\n"
     ]
    },
    {
     "data": {
      "image/png": "[encoded data removed]",
      "text/plain": [
       "<Figure size 640x480 with 2 Axes>"
      ]
     },
     "metadata": {},
     "output_type": "display_data"
    }
   ],
   "source": [
    "evaluate_model(trained_models['lgbmc_imb'], X_test, y_test)"
   ]
  },
  {
   "cell_type": "code",
   "execution_count": null,
   "id": "b7bc1ce2",
   "metadata": {},
   "outputs": [],
   "source": [
    "y_test.value_counts()"
   ]
  },
  {
   "cell_type": "code",
   "execution_count": null,
   "id": "ecff55dd",
   "metadata": {},
   "outputs": [],
   "source": [
    "evaluate_model(trained_models['lgbmc_imb'], X_test, y_test, threshold=0.8)"
   ]
  },
  {
   "cell_type": "markdown",
   "id": "a7bf05ce",
   "metadata": {},
   "source": [
    "### let's create a model amsemble"
   ]
  },
  {
   "cell_type": "code",
   "execution_count": null,
   "id": "089db510",
   "metadata": {},
   "outputs": [],
   "source": [
    "evaluate_model(trained_models['ensemble'], X_test, y_test, threshold=0.8)"
   ]
  },
  {
   "cell_type": "code",
   "execution_count": null,
   "id": "fda80ec4",
   "metadata": {},
   "outputs": [],
   "source": [
    "evaluate_model(trained_models['ensemble'], X_test, y_test)"
   ]
  },
  {
   "cell_type": "code",
   "execution_count": null,
   "id": "c8eb796a",
   "metadata": {},
   "outputs": [],
   "source": [
    "# let's make predictions using weighted ensemble\n",
    "import numpy as np\n",
    "\n",
    "def weighted_model_assembly(models, maes, X, y):\n",
    "    \"\"\"\n",
    "    Perform weighted model assembly.\n",
    "\n",
    "    Parameters:\n",
    "    models (list): List of pre-trained models\n",
    "    maes (list): List of Mean Absolute Errors corresponding to the models\n",
    "    X (numpy.ndarray): Input features for prediction\n",
    "\n",
    "    Returns:\n",
    "    numpy.ndarray: Weighted predictions\n",
    "    \"\"\"\n",
    "    # Calculate weights inversely proportional to MAE\n",
    "    weights = np.array([1.0 / mae for mae in maes])\n",
    "    weights /= np.sum(weights)  # Normalize weights\n",
    "\n",
    "    # Initialize an array to store weighted predictions\n",
    "    preds = np.zeros(X.shape[0])\n",
    "\n",
    "    # Sum the weighted predictions from each model\n",
    "    for (_, model), weight in zip(models, weights):\n",
    "        predictions = model.predict_proba(X)[:, 1]\n",
    "        preds += weight * predictions\n",
    "    preds = (preds >= 0.5).astype(int)\n",
    "    \n",
    "    print(f'Accuracy: {accuracy_score(y, preds)}')\n",
    "    print(f'F1: {f1_score(y, preds)}')\n",
    "    print(f'Precision: {precision_score(y, preds)}')\n",
    "    print(f'Recall: {recall_score(y, preds)}')\n",
    "    print(f'ROC AUC: {roc_auc_score(y, preds)}')\n",
    "\n",
    "    auc_score = roc_auc_score(y, model.predict_proba(X)[:,1])\n",
    "    cm = confusion_matrix(y, preds, labels=model.classes_)\n",
    "    print(f'AUC: {auc_score}')\n",
    "    print(f'Classification Report: {classification_report(y, preds, target_names=[\"not churn\", \"churn\"])}')\n",
    "    print(f'ROC Curve: {roc_curve(y, preds)}')\n",
    "\n",
    "\n",
    "    \n",
    "    # Plot confusion matrix\n",
    "\n",
    "    disp = ConfusionMatrixDisplay(confusion_matrix=cm, display_labels=model.classes_)\n",
    "    disp.plot()\n",
    "    plt.show()\n",
    "\n",
    "    # TP, FP, FN, TN = cm.ravel()\n",
    "    # return TP, FP, FN, TN\n",
    "\n",
    "\n",
    "\n",
    "def evaluate_models(models, X_train, X_val, y_train, y_val):\n",
    "    # fit and evaluate the models\n",
    "    scores = list()\n",
    "    for name, model in models:\n",
    "        # fit the model\n",
    "        # model.fit(X_train, y_train)\n",
    "        # evaluate the model\n",
    "        yhat = model.predict(X_val)\n",
    "        mae = mean_absolute_error(y_val, yhat)\n",
    "        # store the performance\n",
    "        scores.append(-mae)\n",
    "        # report model performance\n",
    "    return scores\n",
    "\n"
   ]
  },
  {
   "cell_type": "code",
   "execution_count": null,
   "id": "abb9264c",
   "metadata": {},
   "outputs": [],
   "source": [
    "X_train.shape, y_train.shape"
   ]
  },
  {
   "cell_type": "code",
   "execution_count": null,
   "id": "8e5d3aa4",
   "metadata": {},
   "outputs": [],
   "source": []
  },
  {
   "cell_type": "code",
   "execution_count": null,
   "id": "8ec32fe0",
   "metadata": {},
   "outputs": [],
   "source": [
    "models  = [\n",
    "    ('xgboost', trained_models['xgboost']),\n",
    "    ('lgbmc', trained_models['lgbmc']),\n",
    "    ('rfc', trained_models['rfc']),\n",
    "    ('lgbmc_imb', trained_models['lgbmc_imb'])\n",
    "\n",
    "]\n",
    "scores = evaluate_models(models, X_train_stratified, X_val_stratified, y_train_stratified, y_val_stratified)\n",
    "# weighted_ensemble(trained_models, X_test, y_test)"
   ]
  },
  {
   "cell_type": "code",
   "execution_count": null,
   "id": "d721d4ec",
   "metadata": {},
   "outputs": [],
   "source": [
    "original_scores = scores.copy()\n",
    "scores[1] = 0.5"
   ]
  },
  {
   "cell_type": "code",
   "execution_count": null,
   "id": "67dd30c1",
   "metadata": {},
   "outputs": [],
   "source": [
    "y_test[:1000].value_counts()"
   ]
  },
  {
   "cell_type": "code",
   "execution_count": null,
   "id": "cf531613",
   "metadata": {},
   "outputs": [],
   "source": [
    "# select 100 rows from X_test\n",
    "\n",
    "weighted_model_assembly(models, scores.values(), X_test[:1000], y_test[:1000])"
   ]
  },
  {
   "cell_type": "code",
   "execution_count": null,
   "id": "2dad62c9",
   "metadata": {},
   "outputs": [],
   "source": [
    "# select 100 rows from X_test\n",
    "\n",
    "weighted_model_assembly(models, scores, X_test[100:], y_test[100:])"
   ]
  },
  {
   "cell_type": "code",
   "execution_count": null,
   "id": "c4fdfaa4",
   "metadata": {},
   "outputs": [],
   "source": [
    "weighted_model_assembly(models, scores, X_test[100:], y_test[100:])"
   ]
  },
  {
   "cell_type": "code",
   "execution_count": null,
   "id": "74822509",
   "metadata": {},
   "outputs": [],
   "source": []
  }
 ],
 "metadata": {
  "kernelspec": {
   "display_name": "venv",
   "language": "python",
   "name": "python3"
  },
  "language_info": {
   "codemirror_mode": {
    "name": "ipython",
    "version": 3
   },
   "file_extension": ".py",
   "mimetype": "text/x-python",
   "name": "python",
   "nbconvert_exporter": "python",
   "pygments_lexer": "ipython3",
   "version": "3.11.2"
  }
 },
 "nbformat": 4,
 "nbformat_minor": 5
}
